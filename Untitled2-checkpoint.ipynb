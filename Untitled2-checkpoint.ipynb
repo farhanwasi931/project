{
 "cells": [
  {
   "cell_type": "code",
   "execution_count": null,
   "id": "cc274363-bfab-42ef-9703-7046f857a279",
   "metadata": {},
   "outputs": [],
   "source": [
    "import zi[pfile\n"
   ]
  },
  {
   "cell_type": "code",
   "execution_count": null,
   "id": "0af4f167-363a-4a5e-afbc-6e5edac3c99b",
   "metadata": {},
   "outputs": [],
   "source": [
    "with zipfile.ZipFile("
   ]
  }
 ],
 "metadata": {
  "kernelspec": {
   "display_name": "Python 3 (ipykernel)",
   "language": "python",
   "name": "python3"
  },
  "language_info": {
   "codemirror_mode": {
    "name": "ipython",
    "version": 3
   },
   "file_extension": ".py",
   "mimetype": "text/x-python",
   "name": "python",
   "nbconvert_exporter": "python",
   "pygments_lexer": "ipython3",
   "version": "3.12.4"
  }
 },
 "nbformat": 4,
 "nbformat_minor": 5
}
